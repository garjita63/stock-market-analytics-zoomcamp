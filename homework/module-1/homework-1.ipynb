{
 "cells": [
  {
   "cell_type": "markdown",
   "metadata": {},
   "source": [
    "## Answer 1"
   ]
  },
  {
   "cell_type": "code",
   "execution_count": 1,
   "metadata": {},
   "outputs": [],
   "source": [
    "# Download GDPC1.csv\n",
    "# download manually"
   ]
  },
  {
   "cell_type": "code",
   "execution_count": 2,
   "metadata": {},
   "outputs": [
    {
     "name": "stdout",
     "output_type": "stream",
     "text": [
      "Average YoY growth rate in 2023: 2.5%\n"
     ]
    }
   ],
   "source": [
    "import pandas as pd\n",
    "\n",
    "# Read dataset\n",
    "df = pd.read_csv(\"GDPC1.csv\")\n",
    "\n",
    "# Convert DATE column to datetime if it's not already in datetime format\n",
    "df['DATE'] = pd.to_datetime(df['DATE'])\n",
    "\n",
    "# Shift GDPC1 column by 4 rows to get value from one year ago\n",
    "df['GDPC1_one_year_ago'] = df['GDPC1'].shift(4)\n",
    "\n",
    "# Calculate YoY growth rate\n",
    "df['YoY_growth'] = df['GDPC1'] / df['GDPC1_one_year_ago'] - 1\n",
    "\n",
    "# Filter dataframe to include only rows from 2023\n",
    "df_2023 = df[df['DATE'].dt.year == 2023]\n",
    "\n",
    "# Calculate average YoY growth rate for 2023\n",
    "average_YoY_growth_2023 = df_2023['YoY_growth'].mean()\n",
    "\n",
    "# Round to 1 decimal point\n",
    "average_YoY_growth_2023_rounded = round(average_YoY_growth_2023 * 100, 1)\n",
    "\n",
    "print(\"Average YoY growth rate in 2023: {}%\".format(average_YoY_growth_2023_rounded))"
   ]
  },
  {
   "cell_type": "markdown",
   "metadata": {},
   "source": [
    "## Answer 2"
   ]
  },
  {
   "cell_type": "code",
   "execution_count": 1,
   "metadata": {
    "scrolled": true
   },
   "outputs": [],
   "source": [
    "import pandas as pd\n",
    "\n",
    "# Download DGS2 and DGS10 interest rates series\n",
    "dgs2_url  = \"https://fred.stlouisfed.org/series/DGS2/downloaddata/DGS2.csv\"\n",
    "dgs10_url = \"https://fred.stlouisfed.org/series/DGS10/downloaddata/DGS10.csv\""
   ]
  },
  {
   "cell_type": "code",
   "execution_count": 2,
   "metadata": {},
   "outputs": [],
   "source": [
    "# Read data into pandas dataframes\n",
    "dgs2 = pd.read_csv(dgs2_url, parse_dates=['DATE'], index_col='DATE')\n",
    "dgs10 = pd.read_csv(dgs10_url, parse_dates=['DATE'], index_col='DATE')"
   ]
  },
  {
   "cell_type": "code",
   "execution_count": 3,
   "metadata": {},
   "outputs": [],
   "source": [
    "# Join the dataframes on date\n",
    "df = dgs10.join(dgs2, lsuffix='_dgs10', rsuffix='_dgs2')"
   ]
  },
  {
   "cell_type": "code",
   "execution_count": 4,
   "metadata": {},
   "outputs": [],
   "source": [
    "# Change empty or Nan (null) into 0 (zero)\n",
    "df.fillna(0, inplace=True)"
   ]
  },
  {
   "cell_type": "code",
   "execution_count": 5,
   "metadata": {},
   "outputs": [],
   "source": [
    "# Filter DataFrame to only contain rows where all values are numeric\n",
    "df = df.apply(lambda col: pd.to_numeric(col, errors='coerce')).dropna()"
   ]
  },
  {
   "cell_type": "code",
   "execution_count": 6,
   "metadata": {
    "scrolled": true
   },
   "outputs": [
    {
     "data": {
      "text/html": [
       "<div>\n",
       "<style scoped>\n",
       "    .dataframe tbody tr th:only-of-type {\n",
       "        vertical-align: middle;\n",
       "    }\n",
       "\n",
       "    .dataframe tbody tr th {\n",
       "        vertical-align: top;\n",
       "    }\n",
       "\n",
       "    .dataframe thead th {\n",
       "        text-align: right;\n",
       "    }\n",
       "</style>\n",
       "<table border=\"1\" class=\"dataframe\">\n",
       "  <thead>\n",
       "    <tr style=\"text-align: right;\">\n",
       "      <th></th>\n",
       "      <th>VALUE_dgs10</th>\n",
       "      <th>VALUE_dgs2</th>\n",
       "    </tr>\n",
       "    <tr>\n",
       "      <th>DATE</th>\n",
       "      <th></th>\n",
       "      <th></th>\n",
       "    </tr>\n",
       "  </thead>\n",
       "  <tbody>\n",
       "    <tr>\n",
       "      <th>1962-01-02</th>\n",
       "      <td>4.06</td>\n",
       "      <td>0.00</td>\n",
       "    </tr>\n",
       "    <tr>\n",
       "      <th>1962-01-03</th>\n",
       "      <td>4.03</td>\n",
       "      <td>0.00</td>\n",
       "    </tr>\n",
       "    <tr>\n",
       "      <th>1962-01-04</th>\n",
       "      <td>3.99</td>\n",
       "      <td>0.00</td>\n",
       "    </tr>\n",
       "    <tr>\n",
       "      <th>1962-01-05</th>\n",
       "      <td>4.02</td>\n",
       "      <td>0.00</td>\n",
       "    </tr>\n",
       "    <tr>\n",
       "      <th>1962-01-08</th>\n",
       "      <td>4.03</td>\n",
       "      <td>0.00</td>\n",
       "    </tr>\n",
       "    <tr>\n",
       "      <th>...</th>\n",
       "      <td>...</td>\n",
       "      <td>...</td>\n",
       "    </tr>\n",
       "    <tr>\n",
       "      <th>2024-04-08</th>\n",
       "      <td>4.42</td>\n",
       "      <td>4.78</td>\n",
       "    </tr>\n",
       "    <tr>\n",
       "      <th>2024-04-09</th>\n",
       "      <td>4.36</td>\n",
       "      <td>4.74</td>\n",
       "    </tr>\n",
       "    <tr>\n",
       "      <th>2024-04-10</th>\n",
       "      <td>4.55</td>\n",
       "      <td>4.97</td>\n",
       "    </tr>\n",
       "    <tr>\n",
       "      <th>2024-04-11</th>\n",
       "      <td>4.56</td>\n",
       "      <td>4.93</td>\n",
       "    </tr>\n",
       "    <tr>\n",
       "      <th>2024-04-12</th>\n",
       "      <td>4.50</td>\n",
       "      <td>4.88</td>\n",
       "    </tr>\n",
       "  </tbody>\n",
       "</table>\n",
       "<p>15556 rows × 2 columns</p>\n",
       "</div>"
      ],
      "text/plain": [
       "            VALUE_dgs10  VALUE_dgs2\n",
       "DATE                               \n",
       "1962-01-02         4.06        0.00\n",
       "1962-01-03         4.03        0.00\n",
       "1962-01-04         3.99        0.00\n",
       "1962-01-05         4.02        0.00\n",
       "1962-01-08         4.03        0.00\n",
       "...                 ...         ...\n",
       "2024-04-08         4.42        4.78\n",
       "2024-04-09         4.36        4.74\n",
       "2024-04-10         4.55        4.97\n",
       "2024-04-11         4.56        4.93\n",
       "2024-04-12         4.50        4.88\n",
       "\n",
       "[15556 rows x 2 columns]"
      ]
     },
     "execution_count": 6,
     "metadata": {},
     "output_type": "execute_result"
    }
   ],
   "source": [
    "df"
   ]
  },
  {
   "cell_type": "code",
   "execution_count": 7,
   "metadata": {},
   "outputs": [
    {
     "data": {
      "text/plain": [
       "VALUE_dgs10    float64\n",
       "VALUE_dgs2     float64\n",
       "dtype: object"
      ]
     },
     "execution_count": 7,
     "metadata": {},
     "output_type": "execute_result"
    }
   ],
   "source": [
    "# Current data types\n",
    "df.dtypes"
   ]
  },
  {
   "cell_type": "code",
   "execution_count": 8,
   "metadata": {},
   "outputs": [],
   "source": [
    "# Calculate the difference dgs10 - dgs2 daily\n",
    "df['difference'] = df['VALUE_dgs10'] - df['VALUE_dgs2']"
   ]
  },
  {
   "cell_type": "code",
   "execution_count": 9,
   "metadata": {},
   "outputs": [
    {
     "data": {
      "text/plain": [
       "DATE\n",
       "1962-01-02    4.06\n",
       "1962-01-03    4.03\n",
       "1962-01-04    3.99\n",
       "1962-01-05    4.02\n",
       "1962-01-08    4.03\n",
       "              ... \n",
       "2024-04-08   -0.36\n",
       "2024-04-09   -0.38\n",
       "2024-04-10   -0.42\n",
       "2024-04-11   -0.37\n",
       "2024-04-12   -0.38\n",
       "Name: difference, Length: 15556, dtype: float64"
      ]
     },
     "execution_count": 9,
     "metadata": {},
     "output_type": "execute_result"
    }
   ],
   "source": [
    "df['difference'] "
   ]
  },
  {
   "cell_type": "code",
   "execution_count": 10,
   "metadata": {
    "scrolled": true
   },
   "outputs": [
    {
     "name": "stdout",
     "output_type": "stream",
     "text": [
      "Minimum value of (dgs10 - dgs2) since 2000: -1.1\n"
     ]
    }
   ],
   "source": [
    "# Filter data since year 2000\n",
    "df_since_2000 = df[df.index >= '2000-01-01']\n",
    "\n",
    "# Find the minimum value of the difference\n",
    "min_difference = df_since_2000['difference'].min()\n",
    "\n",
    "# Round to 1 decimal point\n",
    "min_difference_rounded = round(min_difference, 1)\n",
    "\n",
    "print(\"Minimum value of (dgs10 - dgs2) since 2000: {}\".format(min_difference_rounded))"
   ]
  },
  {
   "cell_type": "markdown",
   "metadata": {},
   "source": [
    "## Answer 3"
   ]
  },
  {
   "cell_type": "code",
   "execution_count": 1,
   "metadata": {},
   "outputs": [
    {
     "name": "stderr",
     "output_type": "stream",
     "text": [
      "[*********************100%%**********************]  1 of 1 completed\n",
      "[*********************100%%**********************]  1 of 1 completed\n"
     ]
    }
   ],
   "source": [
    "import yfinance as yf\n",
    "\n",
    "# Download data for S&P 500 (^GSPC) and IPC Mexico (^MXX) indexes\n",
    "sp500 = yf.download('^GSPC', start='2019-04-09', end='2024-04-09')['Adj Close']\n",
    "ipc_mexico = yf.download('^MXX', start='2019-04-09', end='2024-04-09')['Adj Close']"
   ]
  },
  {
   "cell_type": "code",
   "execution_count": 2,
   "metadata": {},
   "outputs": [],
   "source": [
    "# Calculate the 5-year growth for both indexes\n",
    "sp500_growth = (sp500.iloc[-1] / sp500.iloc[0] - 1) * 100\n",
    "ipc_mexico_growth = (ipc_mexico.iloc[-1] / ipc_mexico.iloc[0] - 1) * 100"
   ]
  },
  {
   "cell_type": "code",
   "execution_count": 3,
   "metadata": {},
   "outputs": [
    {
     "name": "stdout",
     "output_type": "stream",
     "text": [
      "The index with the largest 5-year growth is S&P 500 with a growth of 81%.\n"
     ]
    }
   ],
   "source": [
    "# Determine which index has the highest growth\n",
    "if sp500_growth > ipc_mexico_growth:\n",
    "    largest_growth = round(sp500_growth)\n",
    "    index_name = \"S&P 500\"\n",
    "else:\n",
    "    largest_growth = round(ipc_mexico_growth)\n",
    "    index_name = \"IPC Mexico\"\n",
    "\n",
    "print(\"The index with the largest 5-year growth is {} with a growth of {}%.\".format(index_name, largest_growth))"
   ]
  },
  {
   "cell_type": "markdown",
   "metadata": {},
   "source": [
    "## Answer 4"
   ]
  },
  {
   "cell_type": "code",
   "execution_count": 1,
   "metadata": {},
   "outputs": [
    {
     "name": "stderr",
     "output_type": "stream",
     "text": [
      "[*********************100%%**********************]  1 of 1 completed\n",
      "[*********************100%%**********************]  1 of 1 completed\n",
      "[*********************100%%**********************]  1 of 1 completed\n",
      "[*********************100%%**********************]  1 of 1 completed\n",
      "[*********************100%%**********************]  1 of 1 completed\n",
      "[*********************100%%**********************]  1 of 1 completed"
     ]
    },
    {
     "name": "stdout",
     "output_type": "stream",
     "text": [
      "The largest range ratio in 2023 is 0.42 for stock MSFT.\n"
     ]
    },
    {
     "name": "stderr",
     "output_type": "stream",
     "text": [
      "\n"
     ]
    }
   ],
   "source": [
    "import yfinance as yf\n",
    "\n",
    "# List of selected stocks\n",
    "stocks = ['2222.SR', 'BRK-B', 'AAPL', 'MSFT', 'GOOG', 'JPM']\n",
    "\n",
    "# Download 2023 daily OHLCV data for each stock\n",
    "stock_data = {}\n",
    "for stock in stocks:\n",
    "    stock_data[stock] = yf.download(stock, start='2023-01-01', end='2023-12-31')\n",
    "\n",
    "# Calculate maximum-minimum \"Adj.Close\" price for each stock and divide by the maximum \"Adj.Close\" value\n",
    "max_range_ratio = 0\n",
    "max_range_stock = None\n",
    "for stock, data in stock_data.items():\n",
    "    max_adj_close = data['Adj Close'].max()\n",
    "    min_adj_close = data['Adj Close'].min()\n",
    "    range_ratio = (max_adj_close - min_adj_close) / max_adj_close\n",
    "    if range_ratio > max_range_ratio:\n",
    "        max_range_ratio = range_ratio\n",
    "        max_range_stock = stock\n",
    "\n",
    "# Round the result to two decimal places\n",
    "max_range_ratio_rounded = round(max_range_ratio, 2)\n",
    "\n",
    "print(\"The largest range ratio in 2023 is {} for stock {}.\".format(max_range_ratio_rounded, max_range_stock))\n"
   ]
  },
  {
   "cell_type": "markdown",
   "metadata": {},
   "source": [
    "## Answer 5"
   ]
  },
  {
   "cell_type": "code",
   "execution_count": 1,
   "metadata": {},
   "outputs": [
    {
     "name": "stderr",
     "output_type": "stream",
     "text": [
      "[*********************100%%**********************]  1 of 1 completed\n",
      "/tmp/ipykernel_129086/4153659045.py:23: FutureWarning: Series.__getitem__ treating keys as positions is deprecated. In a future version, integer keys will always be treated as labels (consistent with DataFrame behavior). To access a value by position, use `ser.iloc[pos]`\n",
      "  closing_prices[stock] = stock_data['Adj Close'][-1]\n",
      "[*********************100%%**********************]  1 of 1 completed\n",
      "/tmp/ipykernel_129086/4153659045.py:23: FutureWarning: Series.__getitem__ treating keys as positions is deprecated. In a future version, integer keys will always be treated as labels (consistent with DataFrame behavior). To access a value by position, use `ser.iloc[pos]`\n",
      "  closing_prices[stock] = stock_data['Adj Close'][-1]\n",
      "[*********************100%%**********************]  1 of 1 completed\n",
      "/tmp/ipykernel_129086/4153659045.py:23: FutureWarning: Series.__getitem__ treating keys as positions is deprecated. In a future version, integer keys will always be treated as labels (consistent with DataFrame behavior). To access a value by position, use `ser.iloc[pos]`\n",
      "  closing_prices[stock] = stock_data['Adj Close'][-1]\n",
      "[*********************100%%**********************]  1 of 1 completed\n",
      "/tmp/ipykernel_129086/4153659045.py:23: FutureWarning: Series.__getitem__ treating keys as positions is deprecated. In a future version, integer keys will always be treated as labels (consistent with DataFrame behavior). To access a value by position, use `ser.iloc[pos]`\n",
      "  closing_prices[stock] = stock_data['Adj Close'][-1]\n",
      "[*********************100%%**********************]  1 of 1 completed\n",
      "/tmp/ipykernel_129086/4153659045.py:23: FutureWarning: Series.__getitem__ treating keys as positions is deprecated. In a future version, integer keys will always be treated as labels (consistent with DataFrame behavior). To access a value by position, use `ser.iloc[pos]`\n",
      "  closing_prices[stock] = stock_data['Adj Close'][-1]\n",
      "[*********************100%%**********************]  1 of 1 completed"
     ]
    },
    {
     "name": "stdout",
     "output_type": "stream",
     "text": [
      "The largest dividend yield in 2023 is 2.8%.\n"
     ]
    },
    {
     "name": "stderr",
     "output_type": "stream",
     "text": [
      "\n",
      "/tmp/ipykernel_129086/4153659045.py:23: FutureWarning: Series.__getitem__ treating keys as positions is deprecated. In a future version, integer keys will always be treated as labels (consistent with DataFrame behavior). To access a value by position, use `ser.iloc[pos]`\n",
      "  closing_prices[stock] = stock_data['Adj Close'][-1]\n"
     ]
    }
   ],
   "source": [
    "import yfinance as yf\n",
    "\n",
    "# List of selected stocks\n",
    "stocks = ['2222.SR', 'BRK-B', 'AAPL', 'MSFT', 'GOOG', 'JPM']\n",
    "\n",
    "# Dictionary to store dividends paid by each stock\n",
    "dividends_paid = {}\n",
    "\n",
    "# Loop through each stock and download dividends paid in 2023\n",
    "for stock in stocks:\n",
    "    stock_info = yf.Ticker(stock)\n",
    "    dividends = stock_info.dividends\n",
    "    dividends_2023 = dividends.loc['2023']\n",
    "    total_dividends = dividends_2023.sum()\n",
    "    dividends_paid[stock] = total_dividends\n",
    "\n",
    "# Dictionary to store the closing price of each stock at the last trading day of the year\n",
    "closing_prices = {}\n",
    "\n",
    "# Loop through each stock and download the closing price at the last trading day of 2023\n",
    "for stock in stocks:\n",
    "    stock_data = yf.download(stock, end='2023-12-31')\n",
    "    closing_prices[stock] = stock_data['Adj Close'][-1]\n",
    "\n",
    "# Calculate dividend yield for each stock\n",
    "dividend_yield = {}\n",
    "for stock in stocks:\n",
    "    if closing_prices[stock] != 0:  # Avoid division by zero\n",
    "        dividend_yield[stock] = (dividends_paid[stock] / closing_prices[stock]) * 100\n",
    "    else:\n",
    "        dividend_yield[stock] = 0\n",
    "\n",
    "# Find the largest dividend yield\n",
    "largest_dividend_yield = max(dividend_yield.values())\n",
    "\n",
    "# Round to 1 decimal point\n",
    "largest_dividend_yield_rounded = round(largest_dividend_yield, 1)\n",
    "\n",
    "print(\"The largest dividend yield in 2023 is {}%.\".format(largest_dividend_yield_rounded))\n"
   ]
  },
  {
   "cell_type": "code",
   "execution_count": null,
   "metadata": {},
   "outputs": [],
   "source": []
  }
 ],
 "metadata": {
  "colab": {
   "collapsed_sections": [
    "_sMONMJHjXkM"
   ],
   "provenance": []
  },
  "kernelspec": {
   "display_name": "Python 3 (ipykernel)",
   "language": "python",
   "name": "python3"
  },
  "language_info": {
   "codemirror_mode": {
    "name": "ipython",
    "version": 3
   },
   "file_extension": ".py",
   "mimetype": "text/x-python",
   "name": "python",
   "nbconvert_exporter": "python",
   "pygments_lexer": "ipython3",
   "version": "3.10.12"
  }
 },
 "nbformat": 4,
 "nbformat_minor": 1
}
