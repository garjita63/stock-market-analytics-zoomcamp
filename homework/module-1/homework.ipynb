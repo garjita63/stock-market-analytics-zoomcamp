{
 "cells": [
  {
   "cell_type": "markdown",
   "metadata": {},
   "source": [
    "## Answer 1"
   ]
  },
  {
   "cell_type": "code",
   "execution_count": 1,
   "metadata": {},
   "outputs": [],
   "source": [
    "# Download GDPC1.csv\n",
    "# Please download manually"
   ]
  },
  {
   "cell_type": "code",
   "execution_count": 1,
   "metadata": {},
   "outputs": [
    {
     "name": "stdout",
     "output_type": "stream",
     "text": [
      "Average YoY growth rate in 2023: 2.5%\n"
     ]
    }
   ],
   "source": [
    "import pandas as pd\n",
    "\n",
    "# Read dataset\n",
    "df = pd.read_csv(\"GDPC1.csv\")\n",
    "\n",
    "# Convert DATE column to datetime if it's not already in datetime format\n",
    "df['DATE'] = pd.to_datetime(df['DATE'])\n",
    "\n",
    "# Shift GDPC1 column by 4 rows to get value from one year ago\n",
    "df['GDPC1_one_year_ago'] = df['GDPC1'].shift(4)\n",
    "\n",
    "# Calculate YoY growth rate\n",
    "df['YoY_growth'] = df['GDPC1'] / df['GDPC1_one_year_ago'] - 1\n",
    "\n",
    "# Filter dataframe to include only rows from 2023\n",
    "df_2023 = df[df['DATE'].dt.year == 2023]\n",
    "\n",
    "# Calculate average YoY growth rate for 2023\n",
    "average_YoY_growth_2023 = df_2023['YoY_growth'].mean()\n",
    "\n",
    "# Round to 1 decimal point\n",
    "average_YoY_growth_2023_rounded = round(average_YoY_growth_2023 * 100, 1)\n",
    "\n",
    "print(\"Average YoY growth rate in 2023: {}%\".format(average_YoY_growth_2023_rounded))"
   ]
  },
  {
   "cell_type": "markdown",
   "metadata": {},
   "source": [
    "## Answer 2"
   ]
  },
  {
   "cell_type": "code",
   "execution_count": 1,
   "metadata": {
    "scrolled": true
   },
   "outputs": [],
   "source": [
    "import pandas as pd\n",
    "\n",
    "# Download DGS2 and DGS10 interest rates series\n",
    "dgs2_url  = \"https://fred.stlouisfed.org/series/DGS2/downloaddata/DGS2.csv\"\n",
    "dgs10_url = \"https://fred.stlouisfed.org/series/DGS10/downloaddata/DGS10.csv\""
   ]
  },
  {
   "cell_type": "code",
   "execution_count": 2,
   "metadata": {},
   "outputs": [],
   "source": [
    "# Read data into pandas dataframes\n",
    "dgs2 = pd.read_csv(dgs2_url, parse_dates=['DATE'], index_col='DATE')\n",
    "dgs10 = pd.read_csv(dgs10_url, parse_dates=['DATE'], index_col='DATE')"
   ]
  },
  {
   "cell_type": "code",
   "execution_count": 3,
   "metadata": {},
   "outputs": [],
   "source": [
    "# Join the dataframes on date\n",
    "df = dgs10.join(dgs2, lsuffix='_dgs10', rsuffix='_dgs2')"
   ]
  },
  {
   "cell_type": "code",
   "execution_count": 4,
   "metadata": {
    "scrolled": true
   },
   "outputs": [
    {
     "data": {
      "text/plain": [
       "VALUE_dgs10    .\n",
       "VALUE_dgs2     .\n",
       "Name: 1976-07-05 00:00:00, dtype: object"
      ]
     },
     "execution_count": 4,
     "metadata": {},
     "output_type": "execute_result"
    }
   ],
   "source": [
    "df.iloc[3784,:]"
   ]
  },
  {
   "cell_type": "code",
   "execution_count": 5,
   "metadata": {},
   "outputs": [],
   "source": [
    "# drop all rows that contain '.' character\n",
    "df = df.drop(df[df['VALUE_dgs10'] == '.'].index)"
   ]
  },
  {
   "cell_type": "code",
   "execution_count": 6,
   "metadata": {},
   "outputs": [],
   "source": [
    "# drop all rows that contain '.' character\n",
    "df = df.drop(df[df['VALUE_dgs2'] == '.'].index)"
   ]
  },
  {
   "cell_type": "code",
   "execution_count": 7,
   "metadata": {},
   "outputs": [],
   "source": [
    "df.fillna(0, inplace=True)"
   ]
  },
  {
   "cell_type": "code",
   "execution_count": 8,
   "metadata": {},
   "outputs": [
    {
     "data": {
      "text/html": [
       "<div>\n",
       "<style scoped>\n",
       "    .dataframe tbody tr th:only-of-type {\n",
       "        vertical-align: middle;\n",
       "    }\n",
       "\n",
       "    .dataframe tbody tr th {\n",
       "        vertical-align: top;\n",
       "    }\n",
       "\n",
       "    .dataframe thead th {\n",
       "        text-align: right;\n",
       "    }\n",
       "</style>\n",
       "<table border=\"1\" class=\"dataframe\">\n",
       "  <thead>\n",
       "    <tr style=\"text-align: right;\">\n",
       "      <th></th>\n",
       "      <th>VALUE_dgs10</th>\n",
       "      <th>VALUE_dgs2</th>\n",
       "    </tr>\n",
       "    <tr>\n",
       "      <th>DATE</th>\n",
       "      <th></th>\n",
       "      <th></th>\n",
       "    </tr>\n",
       "  </thead>\n",
       "  <tbody>\n",
       "    <tr>\n",
       "      <th>1962-01-02</th>\n",
       "      <td>4.06</td>\n",
       "      <td>0</td>\n",
       "    </tr>\n",
       "    <tr>\n",
       "      <th>1962-01-03</th>\n",
       "      <td>4.03</td>\n",
       "      <td>0</td>\n",
       "    </tr>\n",
       "    <tr>\n",
       "      <th>1962-01-04</th>\n",
       "      <td>3.99</td>\n",
       "      <td>0</td>\n",
       "    </tr>\n",
       "    <tr>\n",
       "      <th>1962-01-05</th>\n",
       "      <td>4.02</td>\n",
       "      <td>0</td>\n",
       "    </tr>\n",
       "    <tr>\n",
       "      <th>1962-01-08</th>\n",
       "      <td>4.03</td>\n",
       "      <td>0</td>\n",
       "    </tr>\n",
       "    <tr>\n",
       "      <th>...</th>\n",
       "      <td>...</td>\n",
       "      <td>...</td>\n",
       "    </tr>\n",
       "    <tr>\n",
       "      <th>2024-04-05</th>\n",
       "      <td>4.39</td>\n",
       "      <td>4.73</td>\n",
       "    </tr>\n",
       "    <tr>\n",
       "      <th>2024-04-08</th>\n",
       "      <td>4.42</td>\n",
       "      <td>4.78</td>\n",
       "    </tr>\n",
       "    <tr>\n",
       "      <th>2024-04-09</th>\n",
       "      <td>4.36</td>\n",
       "      <td>4.74</td>\n",
       "    </tr>\n",
       "    <tr>\n",
       "      <th>2024-04-10</th>\n",
       "      <td>4.55</td>\n",
       "      <td>4.97</td>\n",
       "    </tr>\n",
       "    <tr>\n",
       "      <th>2024-04-11</th>\n",
       "      <td>4.56</td>\n",
       "      <td>4.93</td>\n",
       "    </tr>\n",
       "  </tbody>\n",
       "</table>\n",
       "<p>15555 rows × 2 columns</p>\n",
       "</div>"
      ],
      "text/plain": [
       "           VALUE_dgs10 VALUE_dgs2\n",
       "DATE                             \n",
       "1962-01-02        4.06          0\n",
       "1962-01-03        4.03          0\n",
       "1962-01-04        3.99          0\n",
       "1962-01-05        4.02          0\n",
       "1962-01-08        4.03          0\n",
       "...                ...        ...\n",
       "2024-04-05        4.39       4.73\n",
       "2024-04-08        4.42       4.78\n",
       "2024-04-09        4.36       4.74\n",
       "2024-04-10        4.55       4.97\n",
       "2024-04-11        4.56       4.93\n",
       "\n",
       "[15555 rows x 2 columns]"
      ]
     },
     "execution_count": 8,
     "metadata": {},
     "output_type": "execute_result"
    }
   ],
   "source": [
    "df"
   ]
  },
  {
   "cell_type": "code",
   "execution_count": 9,
   "metadata": {},
   "outputs": [],
   "source": [
    "df['VALUE_dgs10'] = pd.to_numeric(df['VALUE_dgs10'])\n",
    "df['VALUE_dgs2'] = pd.to_numeric(df['VALUE_dgs2'])"
   ]
  },
  {
   "cell_type": "code",
   "execution_count": 10,
   "metadata": {},
   "outputs": [
    {
     "data": {
      "text/plain": [
       "VALUE_dgs10    float64\n",
       "VALUE_dgs2     float64\n",
       "dtype: object"
      ]
     },
     "execution_count": 10,
     "metadata": {},
     "output_type": "execute_result"
    }
   ],
   "source": [
    "df.dtypes"
   ]
  },
  {
   "cell_type": "code",
   "execution_count": 11,
   "metadata": {},
   "outputs": [],
   "source": [
    "# Calculate the difference dgs10 - dgs2 daily\n",
    "df['difference'] = df['VALUE_dgs10'] - df['VALUE_dgs2']"
   ]
  },
  {
   "cell_type": "code",
   "execution_count": 12,
   "metadata": {},
   "outputs": [
    {
     "data": {
      "text/plain": [
       "DATE\n",
       "1962-01-02    4.06\n",
       "1962-01-03    4.03\n",
       "1962-01-04    3.99\n",
       "1962-01-05    4.02\n",
       "1962-01-08    4.03\n",
       "              ... \n",
       "2024-04-05   -0.34\n",
       "2024-04-08   -0.36\n",
       "2024-04-09   -0.38\n",
       "2024-04-10   -0.42\n",
       "2024-04-11   -0.37\n",
       "Name: difference, Length: 15555, dtype: float64"
      ]
     },
     "execution_count": 12,
     "metadata": {},
     "output_type": "execute_result"
    }
   ],
   "source": [
    "df['difference'] "
   ]
  },
  {
   "cell_type": "code",
   "execution_count": 13,
   "metadata": {
    "scrolled": true
   },
   "outputs": [
    {
     "name": "stdout",
     "output_type": "stream",
     "text": [
      "Minimum value of (dgs10 - dgs2) since 2000: -1.1\n"
     ]
    }
   ],
   "source": [
    "# Filter data since year 2000\n",
    "df_since_2000 = df[df.index >= '2000-01-01']\n",
    "\n",
    "# Find the minimum value of the difference\n",
    "min_difference = df_since_2000['difference'].min()\n",
    "\n",
    "# Round to 1 decimal point\n",
    "min_difference_rounded = round(min_difference, 1)\n",
    "\n",
    "print(\"Minimum value of (dgs10 - dgs2) since 2000: {}\".format(min_difference_rounded))"
   ]
  },
  {
   "cell_type": "markdown",
   "metadata": {},
   "source": [
    "## Answer 3"
   ]
  },
  {
   "cell_type": "code",
   "execution_count": 1,
   "metadata": {},
   "outputs": [
    {
     "name": "stderr",
     "output_type": "stream",
     "text": [
      "[*********************100%%**********************]  1 of 1 completed\n",
      "[*********************100%%**********************]  1 of 1 completed\n"
     ]
    }
   ],
   "source": [
    "import yfinance as yf\n",
    "\n",
    "# Download data for S&P 500 (^GSPC) and IPC Mexico (^MXX) indexes\n",
    "sp500 = yf.download('^GSPC', start='2019-04-09', end='2024-04-09')['Adj Close']\n",
    "ipc_mexico = yf.download('^MXX', start='2019-04-09', end='2024-04-09')['Adj Close']"
   ]
  },
  {
   "cell_type": "code",
   "execution_count": 2,
   "metadata": {},
   "outputs": [],
   "source": [
    "# Calculate the 5-year growth for both indexes\n",
    "sp500_growth = (sp500.iloc[-1] / sp500.iloc[0] - 1) * 100\n",
    "ipc_mexico_growth = (ipc_mexico.iloc[-1] / ipc_mexico.iloc[0] - 1) * 100"
   ]
  },
  {
   "cell_type": "code",
   "execution_count": 3,
   "metadata": {},
   "outputs": [
    {
     "name": "stdout",
     "output_type": "stream",
     "text": [
      "The index with the largest 5-year growth is S&P 500 with a growth of 81%.\n"
     ]
    }
   ],
   "source": [
    "# Determine which index has the highest growth\n",
    "if sp500_growth > ipc_mexico_growth:\n",
    "    largest_growth = round(sp500_growth)\n",
    "    index_name = \"S&P 500\"\n",
    "else:\n",
    "    largest_growth = round(ipc_mexico_growth)\n",
    "    index_name = \"IPC Mexico\"\n",
    "\n",
    "print(\"The index with the largest 5-year growth is {} with a growth of {}%.\".format(index_name, largest_growth))"
   ]
  },
  {
   "cell_type": "markdown",
   "metadata": {},
   "source": [
    "## Answer 4"
   ]
  },
  {
   "cell_type": "code",
   "execution_count": 1,
   "metadata": {},
   "outputs": [
    {
     "name": "stderr",
     "output_type": "stream",
     "text": [
      "[*********************100%%**********************]  1 of 1 completed\n",
      "[*********************100%%**********************]  1 of 1 completed\n",
      "[*********************100%%**********************]  1 of 1 completed\n",
      "[*********************100%%**********************]  1 of 1 completed\n",
      "[*********************100%%**********************]  1 of 1 completed\n",
      "[*********************100%%**********************]  1 of 1 completed"
     ]
    },
    {
     "name": "stdout",
     "output_type": "stream",
     "text": [
      "The largest range ratio in 2023 is 0.42 for stock MSFT.\n"
     ]
    },
    {
     "name": "stderr",
     "output_type": "stream",
     "text": [
      "\n"
     ]
    }
   ],
   "source": [
    "import yfinance as yf\n",
    "\n",
    "# List of selected stocks\n",
    "stocks = ['2222.SR', 'BRK-B', 'AAPL', 'MSFT', 'GOOG', 'JPM']\n",
    "\n",
    "# Download 2023 daily OHLCV data for each stock\n",
    "stock_data = {}\n",
    "for stock in stocks:\n",
    "    stock_data[stock] = yf.download(stock, start='2023-01-01', end='2023-12-31')\n",
    "\n",
    "# Calculate maximum-minimum \"Adj.Close\" price for each stock and divide by the maximum \"Adj.Close\" value\n",
    "max_range_ratio = 0\n",
    "max_range_stock = None\n",
    "for stock, data in stock_data.items():\n",
    "    max_adj_close = data['Adj Close'].max()\n",
    "    min_adj_close = data['Adj Close'].min()\n",
    "    range_ratio = (max_adj_close - min_adj_close) / max_adj_close\n",
    "    if range_ratio > max_range_ratio:\n",
    "        max_range_ratio = range_ratio\n",
    "        max_range_stock = stock\n",
    "\n",
    "# Round the result to two decimal places\n",
    "max_range_ratio_rounded = round(max_range_ratio, 2)\n",
    "\n",
    "print(\"The largest range ratio in 2023 is {} for stock {}.\".format(max_range_ratio_rounded, max_range_stock))\n"
   ]
  },
  {
   "cell_type": "markdown",
   "metadata": {},
   "source": [
    "## Answer 5"
   ]
  },
  {
   "cell_type": "code",
   "execution_count": 1,
   "metadata": {},
   "outputs": [
    {
     "name": "stderr",
     "output_type": "stream",
     "text": [
      "[*********************100%%**********************]  1 of 1 completed\n",
      "/tmp/ipykernel_147627/4153659045.py:23: FutureWarning: Series.__getitem__ treating keys as positions is deprecated. In a future version, integer keys will always be treated as labels (consistent with DataFrame behavior). To access a value by position, use `ser.iloc[pos]`\n",
      "  closing_prices[stock] = stock_data['Adj Close'][-1]\n",
      "[*********************100%%**********************]  1 of 1 completed\n",
      "/tmp/ipykernel_147627/4153659045.py:23: FutureWarning: Series.__getitem__ treating keys as positions is deprecated. In a future version, integer keys will always be treated as labels (consistent with DataFrame behavior). To access a value by position, use `ser.iloc[pos]`\n",
      "  closing_prices[stock] = stock_data['Adj Close'][-1]\n",
      "[*********************100%%**********************]  1 of 1 completed\n",
      "/tmp/ipykernel_147627/4153659045.py:23: FutureWarning: Series.__getitem__ treating keys as positions is deprecated. In a future version, integer keys will always be treated as labels (consistent with DataFrame behavior). To access a value by position, use `ser.iloc[pos]`\n",
      "  closing_prices[stock] = stock_data['Adj Close'][-1]\n",
      "[*********************100%%**********************]  1 of 1 completed\n",
      "/tmp/ipykernel_147627/4153659045.py:23: FutureWarning: Series.__getitem__ treating keys as positions is deprecated. In a future version, integer keys will always be treated as labels (consistent with DataFrame behavior). To access a value by position, use `ser.iloc[pos]`\n",
      "  closing_prices[stock] = stock_data['Adj Close'][-1]\n",
      "[*********************100%%**********************]  1 of 1 completed\n",
      "/tmp/ipykernel_147627/4153659045.py:23: FutureWarning: Series.__getitem__ treating keys as positions is deprecated. In a future version, integer keys will always be treated as labels (consistent with DataFrame behavior). To access a value by position, use `ser.iloc[pos]`\n",
      "  closing_prices[stock] = stock_data['Adj Close'][-1]\n",
      "[*********************100%%**********************]  1 of 1 completed"
     ]
    },
    {
     "name": "stdout",
     "output_type": "stream",
     "text": [
      "The largest dividend yield in 2023 is 2.8%.\n"
     ]
    },
    {
     "name": "stderr",
     "output_type": "stream",
     "text": [
      "\n",
      "/tmp/ipykernel_147627/4153659045.py:23: FutureWarning: Series.__getitem__ treating keys as positions is deprecated. In a future version, integer keys will always be treated as labels (consistent with DataFrame behavior). To access a value by position, use `ser.iloc[pos]`\n",
      "  closing_prices[stock] = stock_data['Adj Close'][-1]\n"
     ]
    }
   ],
   "source": [
    "import yfinance as yf\n",
    "\n",
    "# List of selected stocks\n",
    "stocks = ['2222.SR', 'BRK-B', 'AAPL', 'MSFT', 'GOOG', 'JPM']\n",
    "\n",
    "# Dictionary to store dividends paid by each stock\n",
    "dividends_paid = {}\n",
    "\n",
    "# Loop through each stock and download dividends paid in 2023\n",
    "for stock in stocks:\n",
    "    stock_info = yf.Ticker(stock)\n",
    "    dividends = stock_info.dividends\n",
    "    dividends_2023 = dividends.loc['2023']\n",
    "    total_dividends = dividends_2023.sum()\n",
    "    dividends_paid[stock] = total_dividends\n",
    "\n",
    "# Dictionary to store the closing price of each stock at the last trading day of the year\n",
    "closing_prices = {}\n",
    "\n",
    "# Loop through each stock and download the closing price at the last trading day of 2023\n",
    "for stock in stocks:\n",
    "    stock_data = yf.download(stock, end='2023-12-31')\n",
    "    closing_prices[stock] = stock_data['Adj Close'][-1]\n",
    "\n",
    "# Calculate dividend yield for each stock\n",
    "dividend_yield = {}\n",
    "for stock in stocks:\n",
    "    if closing_prices[stock] != 0:  # Avoid division by zero\n",
    "        dividend_yield[stock] = (dividends_paid[stock] / closing_prices[stock]) * 100\n",
    "    else:\n",
    "        dividend_yield[stock] = 0\n",
    "\n",
    "# Find the largest dividend yield\n",
    "largest_dividend_yield = max(dividend_yield.values())\n",
    "\n",
    "# Round to 1 decimal point\n",
    "largest_dividend_yield_rounded = round(largest_dividend_yield, 1)\n",
    "\n",
    "print(\"The largest dividend yield in 2023 is {}%.\".format(largest_dividend_yield_rounded))\n"
   ]
  },
  {
   "cell_type": "markdown",
   "metadata": {},
   "source": [
    "## Answer 6"
   ]
  },
  {
   "cell_type": "markdown",
   "metadata": {},
   "source": [
    "For my project, I've decided to explore a few additional metrics that could provide valuable insights into the performance and behavior of the selected stocks. Here are the metrics I'll be investigating:\n",
    "\n",
    "Price-to-Earnings Ratio (P/E Ratio): The P/E ratio is a fundamental valuation metric that compares a company's current stock price to its earnings per share (EPS). A low P/E ratio may indicate that a stock is undervalued, while a high P/E ratio may suggest that it's overvalued. Understanding the P/E ratio can provide insights into investor sentiment and market expectations for future earnings growth.\n",
    "\n",
    "Price-to-Book Ratio (P/B Ratio): The P/B ratio compares a company's market capitalization to its book value. It's calculated by dividing the current market price per share by the book value per share. A low P/B ratio may indicate that a stock is undervalued relative to its book value, while a high P/B ratio may suggest that it's overvalued. Examining the P/B ratio can help assess a stock's valuation compared to its intrinsic value.\n",
    "\n",
    "Return on Equity (ROE): ROE measures a company's profitability by comparing net income to shareholders' equity. It shows how effectively a company is using its equity to generate profits. A high ROE indicates that a company is efficiently utilizing shareholder funds, while a low ROE may suggest inefficiency or poor performance. Analyzing ROE can provide insights into a company's profitability and management effectiveness.\n",
    "\n",
    "Volatility (Historical Volatility): Volatility measures the degree of variation in a stock's price over time. It's often expressed as the standard deviation of the stock's returns. High volatility stocks tend to have larger price swings, which may present both opportunities and risks for investors. Understanding historical volatility can help assess the riskiness of a stock and its potential for price fluctuations.\n",
    "\n",
    "By exploring these additional metrics, I aim to gain a deeper understanding of the financial performance, valuation, and risk profile of the selected stocks. These insights will help me make more informed investment decisions and better assess the potential opportunities and risks associated with each stock."
   ]
  },
  {
   "cell_type": "markdown",
   "metadata": {},
   "source": [
    " Here's how I would technically explore the project using Python, pandas, and other relevant libraries:\n",
    "\n",
    "Data Collection:\n",
    "\n",
    "First, I would define the list of stocks to analyze. For this example, let's use the same list: ['2222.SR', 'BRK-B', 'AAPL', 'MSFT', 'GOOG', 'JPM'].\n",
    "I would then use the yfinance library to download historical OHLCV data for each stock, covering the desired time period.\n",
    "Data Preprocessing:\n",
    "\n",
    "Once the data is downloaded, I would preprocess it to ensure consistency and cleanliness.\n",
    "This might involve handling missing values, converting data types, and aligning the dataframes for further analysis.\n",
    "Exploratory Data Analysis (EDA):\n",
    "\n",
    "Next, I would conduct exploratory data analysis to gain insights into the datasets.\n",
    "This could involve calculating summary statistics, visualizing price movements, and identifying any trends or patterns.\n",
    "Calculation of Additional Metrics:\n",
    "\n",
    "With the OHLCV data in hand, I would calculate the additional metrics mentioned earlier:\n",
    "Price-to-Earnings Ratio (P/E Ratio)\n",
    "Price-to-Book Ratio (P/B Ratio)\n",
    "Return on Equity (ROE)\n",
    "Historical Volatility\n",
    "These metrics would be calculated based on the historical price and financial data available for each stock.\n",
    "Visualization:\n",
    "\n",
    "I would create visualizations to present the calculated metrics and insights in a clear and intuitive manner.\n",
    "This could include line plots, bar charts, histograms, and scatter plots to illustrate trends, distributions, and relationships.\n",
    "Interpretation and Conclusion:\n",
    "\n",
    "Finally, I would interpret the results of the analysis and draw conclusions about the financial performance and behavior of the selected stocks.\n",
    "I would discuss any notable findings, trends, or anomalies discovered during the exploration process.\n",
    "Below is a simplified example code snippet to demonstrate how some of these steps might be implemented:"
   ]
  },
  {
   "cell_type": "code",
   "execution_count": 21,
   "metadata": {},
   "outputs": [],
   "source": [
    "import yfinance as yf\n",
    "import pandas as pd\n",
    "\n",
    "# List of selected stocks\n",
    "stocks = ['2222.SR', 'BRK-B', 'AAPL', 'MSFT', 'GOOG', 'JPM']"
   ]
  },
  {
   "cell_type": "code",
   "execution_count": 22,
   "metadata": {
    "scrolled": true
   },
   "outputs": [
    {
     "name": "stderr",
     "output_type": "stream",
     "text": [
      "[*********************100%%**********************]  1 of 1 completed\n",
      "[*********************100%%**********************]  1 of 1 completed\n",
      "[*********************100%%**********************]  1 of 1 completed\n",
      "[*********************100%%**********************]  1 of 1 completed\n",
      "[*********************100%%**********************]  1 of 1 completed\n",
      "[*********************100%%**********************]  1 of 1 completed\n"
     ]
    }
   ],
   "source": [
    "# Download historical OHLCV data for each stock\n",
    "stock_data = {}\n",
    "for stock in stocks:\n",
    "    stock_data[stock] = yf.download(stock, start='2020-01-01', end='2022-12-31')"
   ]
  },
  {
   "cell_type": "code",
   "execution_count": 23,
   "metadata": {},
   "outputs": [
    {
     "data": {
      "text/plain": [
       "{'2222.SR':                  Open       High        Low      Close  Adj Close    Volume\n",
       " Date                                                                       \n",
       " 2020-01-01  29.132231  29.132231  28.966942  29.008265  25.412832   8517342\n",
       " 2020-01-02  29.008265  29.132231  28.966942  29.049585  25.449030  11430744\n",
       " 2020-01-05  28.925619  28.925619  28.512396  28.553719  25.014624  25239125\n",
       " 2020-01-06  28.512396  28.553719  28.140495  28.512396  24.978424  23401835\n",
       " 2020-01-07  28.471073  28.553719  28.223141  28.388430  24.869820  13923075\n",
       " ...               ...        ...        ...        ...        ...       ...\n",
       " 2022-12-25  28.363636  28.590908  28.272726  28.545454  27.596910   3253701\n",
       " 2022-12-26  28.590908  28.681818  28.500000  28.545454  27.596910   2194215\n",
       " 2022-12-27  28.545454  29.272726  28.545454  29.090908  28.124241   5551469\n",
       " 2022-12-28  29.090908  29.272726  28.954544  29.272726  28.300016   3975053\n",
       " 2022-12-29  29.272726  29.272726  29.045454  29.181818  28.212128   5744886\n",
       " \n",
       " [749 rows x 6 columns],\n",
       " 'BRK-B':                   Open        High         Low       Close   Adj Close  \\\n",
       " Date                                                                     \n",
       " 2020-01-02  227.509995  228.389999  226.710007  228.389999  228.389999   \n",
       " 2020-01-03  225.690002  227.429993  225.479996  226.179993  226.179993   \n",
       " 2020-01-06  224.990005  227.130005  224.699997  226.990005  226.990005   \n",
       " 2020-01-07  227.259995  227.259995  225.440002  225.919998  225.919998   \n",
       " 2020-01-08  226.029999  227.839996  225.869995  225.990005  225.990005   \n",
       " ...                ...         ...         ...         ...         ...   \n",
       " 2022-12-23  302.880005  306.570007  300.929993  306.489990  306.489990   \n",
       " 2022-12-27  306.450012  308.579987  304.649994  305.549988  305.549988   \n",
       " 2022-12-28  304.769989  307.459991  303.260010  303.429993  303.429993   \n",
       " 2022-12-29  305.940002  309.380005  305.239990  309.059998  309.059998   \n",
       " 2022-12-30  306.950012  309.040009  305.619995  308.899994  308.899994   \n",
       " \n",
       "              Volume  \n",
       " Date                 \n",
       " 2020-01-02  3764000  \n",
       " 2020-01-03  3023900  \n",
       " 2020-01-06  4263000  \n",
       " 2020-01-07  3517000  \n",
       " 2020-01-08  3780300  \n",
       " ...             ...  \n",
       " 2022-12-23  2460400  \n",
       " 2022-12-27  2730900  \n",
       " 2022-12-28  2628200  \n",
       " 2022-12-29  2846200  \n",
       " 2022-12-30  3298300  \n",
       " \n",
       " [756 rows x 6 columns],\n",
       " 'AAPL':                   Open        High         Low       Close   Adj Close  \\\n",
       " Date                                                                     \n",
       " 2020-01-02   74.059998   75.150002   73.797501   75.087502   73.059425   \n",
       " 2020-01-03   74.287498   75.144997   74.125000   74.357498   72.349136   \n",
       " 2020-01-06   73.447502   74.989998   73.187500   74.949997   72.925629   \n",
       " 2020-01-07   74.959999   75.224998   74.370003   74.597504   72.582664   \n",
       " 2020-01-08   74.290001   76.110001   74.290001   75.797501   73.750244   \n",
       " ...                ...         ...         ...         ...         ...   \n",
       " 2022-12-23  130.919998  132.419998  129.639999  131.860001  130.959961   \n",
       " 2022-12-27  131.380005  131.410004  128.720001  130.029999  129.142426   \n",
       " 2022-12-28  129.669998  131.029999  125.870003  126.040001  125.179672   \n",
       " 2022-12-29  127.989998  130.479996  127.730003  129.610001  128.725311   \n",
       " 2022-12-30  128.410004  129.949997  127.430000  129.929993  129.043121   \n",
       " \n",
       "                Volume  \n",
       " Date                   \n",
       " 2020-01-02  135480400  \n",
       " 2020-01-03  146322800  \n",
       " 2020-01-06  118387200  \n",
       " 2020-01-07  108872000  \n",
       " 2020-01-08  132079200  \n",
       " ...               ...  \n",
       " 2022-12-23   63814900  \n",
       " 2022-12-27   69007800  \n",
       " 2022-12-28   85438400  \n",
       " 2022-12-29   75703700  \n",
       " 2022-12-30   77034200  \n",
       " \n",
       " [756 rows x 6 columns],\n",
       " 'MSFT':                   Open        High         Low       Close   Adj Close  \\\n",
       " Date                                                                     \n",
       " 2020-01-02  158.779999  160.729996  158.330002  160.619995  154.493820   \n",
       " 2020-01-03  158.320007  159.949997  158.059998  158.619995  152.570099   \n",
       " 2020-01-06  157.080002  159.100006  156.509995  159.029999  152.964478   \n",
       " 2020-01-07  159.320007  159.669998  157.320007  157.580002  151.569778   \n",
       " 2020-01-08  158.929993  160.800003  157.949997  160.089996  153.984055   \n",
       " ...                ...         ...         ...         ...         ...   \n",
       " 2022-12-23  236.110001  238.869995  233.940002  238.729996  236.195023   \n",
       " 2022-12-27  238.699997  238.929993  235.830002  236.960007  234.443832   \n",
       " 2022-12-28  236.889999  239.720001  234.169998  234.529999  232.039612   \n",
       " 2022-12-29  235.649994  241.919998  235.649994  241.009995  238.450821   \n",
       " 2022-12-30  238.210007  239.960007  236.660004  239.820007  237.273438   \n",
       " \n",
       "               Volume  \n",
       " Date                  \n",
       " 2020-01-02  22622100  \n",
       " 2020-01-03  21116200  \n",
       " 2020-01-06  20813700  \n",
       " 2020-01-07  21634100  \n",
       " 2020-01-08  27746500  \n",
       " ...              ...  \n",
       " 2022-12-23  21207000  \n",
       " 2022-12-27  16688600  \n",
       " 2022-12-28  17457100  \n",
       " 2022-12-29  19770700  \n",
       " 2022-12-30  21938500  \n",
       " \n",
       " [756 rows x 6 columns],\n",
       " 'GOOG':                  Open       High        Low      Close  Adj Close    Volume\n",
       " Date                                                                       \n",
       " 2020-01-02  67.077499  68.406998  67.077499  68.368500  68.368500  28132000\n",
       " 2020-01-03  67.392998  68.625000  67.277199  68.032997  68.032997  23728000\n",
       " 2020-01-06  67.500000  69.824997  67.500000  69.710503  69.710503  34646000\n",
       " 2020-01-07  69.897003  70.149498  69.518997  69.667000  69.667000  30054000\n",
       " 2020-01-08  69.603996  70.579002  69.542000  70.216003  70.216003  30560000\n",
       " ...               ...        ...        ...        ...        ...       ...\n",
       " 2022-12-23  87.620003  90.099998  87.620003  89.809998  89.809998  17815000\n",
       " 2022-12-27  89.309998  89.500000  87.535004  87.930000  87.930000  15470900\n",
       " 2022-12-28  87.500000  88.519997  86.370003  86.459999  86.459999  17879600\n",
       " 2022-12-29  87.029999  89.364998  86.989998  88.949997  88.949997  18280700\n",
       " 2022-12-30  87.364998  88.830002  87.029999  88.730003  88.730003  19190300\n",
       " \n",
       " [756 rows x 6 columns],\n",
       " 'JPM':                   Open        High         Low       Close   Adj Close  \\\n",
       " Date                                                                     \n",
       " 2020-01-02  139.789993  141.100006  139.259995  141.089996  123.533607   \n",
       " 2020-01-03  137.500000  139.229996  137.080002  138.339996  121.903419   \n",
       " 2020-01-06  136.559998  138.270004  136.500000  138.229996  121.806496   \n",
       " 2020-01-07  137.279999  137.860001  135.820007  135.880005  119.735718   \n",
       " 2020-01-08  135.699997  137.580002  135.600006  136.940002  120.669762   \n",
       " ...                ...         ...         ...         ...         ...   \n",
       " 2022-12-23  130.580002  131.440002  129.639999  131.279999  125.964005   \n",
       " 2022-12-27  131.570007  132.220001  130.550003  131.740005  126.405380   \n",
       " 2022-12-28  131.850006  133.410004  131.009995  132.460007  127.096222   \n",
       " 2022-12-29  132.929993  133.270004  132.309998  133.220001  127.825439   \n",
       " 2022-12-30  132.809998  134.330002  132.440002  134.100006  128.669800   \n",
       " \n",
       "               Volume  \n",
       " Date                  \n",
       " 2020-01-02  10803700  \n",
       " 2020-01-03  10386800  \n",
       " 2020-01-06  10259000  \n",
       " 2020-01-07  10531300  \n",
       " 2020-01-08   9695300  \n",
       " ...              ...  \n",
       " 2022-12-23   5091900  \n",
       " 2022-12-27   5411000  \n",
       " 2022-12-28   8827700  \n",
       " 2022-12-29   6585200  \n",
       " 2022-12-30   9292500  \n",
       " \n",
       " [756 rows x 6 columns]}"
      ]
     },
     "execution_count": 23,
     "metadata": {},
     "output_type": "execute_result"
    }
   ],
   "source": [
    "stock_data"
   ]
  },
  {
   "cell_type": "code",
   "execution_count": 24,
   "metadata": {},
   "outputs": [
    {
     "name": "stdout",
     "output_type": "stream",
     "text": [
      "<class 'dict'>\n"
     ]
    }
   ],
   "source": [
    " print(type(stock_data))"
   ]
  },
  {
   "cell_type": "code",
   "execution_count": 25,
   "metadata": {},
   "outputs": [],
   "source": [
    "# earnings_per_share function - example\n",
    "\n",
    "def calculate_eps(net_income, preferred_dividends, beginning_outstanding_shares, ending_outstanding_shares):\n",
    "    # Calculate adjusted net income\n",
    "    adjusted_net_income = net_income - preferred_dividends\n",
    "    \n",
    "    # Calculate average number of outstanding shares\n",
    "    average_outstanding_shares = (beginning_outstanding_shares + ending_outstanding_shares) / 2\n",
    "    \n",
    "    # Calculate EPS\n",
    "    earnings_per_share = adjusted_net_income / average_outstanding_shares\n",
    "    \n",
    "    return earnings_per_share\n"
   ]
  },
  {
   "cell_type": "code",
   "execution_count": 26,
   "metadata": {},
   "outputs": [
    {
     "name": "stdout",
     "output_type": "stream",
     "text": [
      "Earnings per Share (EPS): 8.636363636363637\n"
     ]
    }
   ],
   "source": [
    "# Example usage\n",
    "net_income = 1000000  # Example net income\n",
    "preferred_dividends = 50000  # Example preferred dividends\n",
    "beginning_outstanding_shares = 100000  # Example beginning outstanding shares\n",
    "ending_outstanding_shares = 120000  # Example ending outstanding shares\n",
    "\n",
    "earnings_per_share = calculate_eps(net_income, preferred_dividends, beginning_outstanding_shares, ending_outstanding_shares)\n",
    "print(\"Earnings per Share (EPS):\", earnings_per_share)\n"
   ]
  },
  {
   "cell_type": "code",
   "execution_count": 27,
   "metadata": {},
   "outputs": [
    {
     "name": "stderr",
     "output_type": "stream",
     "text": [
      "/tmp/ipykernel_121619/3229416635.py:8: FutureWarning: Series.__getitem__ treating keys as positions is deprecated. In a future version, integer keys will always be treated as labels (consistent with DataFrame behavior). To access a value by position, use `ser.iloc[pos]`\n",
      "  closing_price = data['Adj Close'][-1]\n"
     ]
    }
   ],
   "source": [
    "# Perform data preprocessing, EDA, and calculate additional metrics\n",
    "# (Omitted for brevity)\n",
    "\n",
    "# Example: Calculate P/E Ratio\n",
    "pe_ratio = {}\n",
    "for stock, data in stock_data.items():\n",
    "    #earnings_per_share = ...  # Calculate earnings per share based on financial data (eps)\n",
    "    closing_price = data['Adj Close'][-1]\n",
    "    pe_ratio[stock] = closing_price / earnings_per_share"
   ]
  },
  {
   "cell_type": "code",
   "execution_count": 29,
   "metadata": {},
   "outputs": [
    {
     "data": {
      "text/plain": [
       "14.8986083984375"
      ]
     },
     "execution_count": 29,
     "metadata": {},
     "output_type": "execute_result"
    }
   ],
   "source": [
    "pe_ratio[stock] "
   ]
  },
  {
   "cell_type": "code",
   "execution_count": 28,
   "metadata": {},
   "outputs": [
    {
     "data": {
      "image/png": "[encoded data removed]",
      "text/plain": [
       "<Figure size 720x432 with 1 Axes>"
      ]
     },
     "metadata": {
      "needs_background": "light"
     },
     "output_type": "display_data"
    }
   ],
   "source": [
    "# Example: Calculate P/B Ratio, ROE, and Historical Volatility\n",
    "# (Omitted for brevity)\n",
    "\n",
    "import matplotlib.pyplot as plt\n",
    "\n",
    "plt.figure(figsize=(10, 6))\n",
    "for stock, data in stock_data.items():\n",
    "    # Check if the P/E ratio value is a single float or a list/array\n",
    "    pe_ratio_value = pe_ratio[stock]\n",
    "    if isinstance(pe_ratio_value, float):\n",
    "        # If the P/E ratio is a single float, create a list with that value for each date\n",
    "        pe_ratio_list = [pe_ratio_value] * len(data)\n",
    "    else:\n",
    "        # If the P/E ratio is already a list/array, use it as is\n",
    "        pe_ratio_list = pe_ratio_value\n",
    "    \n",
    "    # Convert the date index to a list\n",
    "    date_list = list(data.index)\n",
    "    \n",
    "    # Plot only if types and structures are as expected\n",
    "    if isinstance(date_list, list) and isinstance(pe_ratio_list, list):\n",
    "        plt.plot(date_list, pe_ratio_list, label=stock)\n",
    "\n",
    "plt.title('Price-to-Earnings Ratio (P/E Ratio)')\n",
    "plt.xlabel('Date')\n",
    "plt.ylabel('P/E Ratio')\n",
    "plt.legend()\n",
    "plt.show()\n",
    "\n",
    "# Interpretation and Conclusion\n",
    "# (Omitted for brevity)"
   ]
  },
  {
   "cell_type": "markdown",
   "metadata": {},
   "source": [
    "## Answer 7"
   ]
  },
  {
   "cell_type": "markdown",
   "metadata": {},
   "source": [
    "To develop a time-driven strategy around earnings releases, we can use historical earnings data and upcoming earnings calendar information to identify potential trading opportunities. Here's a suggested analytical strategy:\n",
    "\n",
    "Collect Historical Earnings Data:\n",
    "\n",
    "Gather historical earnings data for a range of companies, including earnings release dates, actual earnings per share (EPS), and consensus EPS estimates. This data can be obtained from financial websites like Yahoo Finance or specialized financial data providers.\n",
    "Analyze Previous Earnings Releases:\n",
    "\n",
    "Analyze the previous earnings releases to identify patterns and trends in stock price movements before and after earnings announcements. Look for factors such as:\n",
    "Stock price behavior leading up to earnings (e.g., price trends, volatility).\n",
    "Deviation of actual EPS from consensus estimates and its impact on stock price.\n",
    "Market reaction post-earnings (e.g., price gap, magnitude of price change).\n",
    "Explore Upcoming Earnings Calendar:\n",
    "\n",
    "Utilize the earnings calendar feature on Yahoo Finance or similar platforms to identify upcoming earnings releases for the month of April and beyond.\n",
    "Focus on companies with upcoming earnings releases that have historically exhibited significant price movements in response to earnings announcements.\n",
    "Screen for Potential Trading Opportunities:\n",
    "\n",
    "Develop criteria to screen for potential trading opportunities based on the upcoming earnings calendar. This could include factors such as:\n",
    "Companies with a history of beating consensus EPS estimates.\n",
    "Companies with a history of significant price movements post-earnings.\n",
    "Stocks exhibiting technical patterns suggestive of potential price breakout or breakdown.\n",
    "Implement Trading Strategies:\n",
    "\n",
    "Based on the screening criteria, select a subset of companies of interest for potential trading opportunities.\n",
    "Develop and backtest trading strategies tailored to capitalize on anticipated price movements around earnings releases. This could include:\n",
    "Buying options or initiating directional trades (long or short) before earnings based on anticipated price movement.\n",
    "Employing volatility-based strategies such as straddles or strangles to profit from expected price volatility post-earnings.\n",
    "Risk Management and Monitoring:\n",
    "\n",
    "Implement robust risk management practices to limit downside risk and preserve capital.\n",
    "Monitor the selected trades closely, especially around earnings release dates, and adjust positions as needed based on real-time market conditions and new information.\n",
    "By following this analytical strategy, traders and investors can identify and capitalize on potential trading opportunities driven by earnings releases, while also managing risk effectively."
   ]
  },
  {
   "cell_type": "markdown",
   "metadata": {},
   "source": [
    "Below, I'll outline how you can implement the analytical strategy described earlier using data available in a Jupyter Notebook:\n",
    "\n",
    "Collect Historical Earnings Data:\n",
    "\n",
    "Download historical earnings data for a range of companies from Yahoo Finance using the yfinance library in Python. You can specify the date range and retrieve information such as earnings release dates, actual EPS, and consensus EPS estimates.\n",
    "Analyze Previous Earnings Releases:\n",
    "\n",
    "Load the historical earnings data into pandas DataFrames and conduct exploratory data analysis (EDA) to analyze patterns and trends in stock price movements before and after earnings announcements. Calculate metrics such as price changes, EPS surprises, and volatility around earnings dates.\n",
    "Explore Upcoming Earnings Calendar:\n",
    "\n",
    "Use web scraping techniques or API requests to fetch the upcoming earnings calendar data from Yahoo Finance or a similar platform. Extract relevant information such as companies with earnings releases scheduled for the month of April and beyond.\n",
    "Screen for Potential Trading Opportunities:\n",
    "\n",
    "Apply filtering and screening criteria to identify potential trading opportunities based on the upcoming earnings calendar data. This could involve selecting companies with a history of significant price movements post-earnings or those expected to beat consensus EPS estimates.\n",
    "Implement Trading Strategies:\n",
    "\n",
    "Based on the screening results, develop and implement trading strategies in Python. This may involve executing trades such as buying options, initiating directional trades, or employing volatility-based strategies using libraries like numpy, pandas, and scikit-learn.\n",
    "Risk Management and Monitoring:\n",
    "\n",
    "Implement risk management techniques such as position sizing, stop-loss orders, and profit targets to manage downside risk effectively. Monitor the selected trades closely using real-time market data and adjust positions as needed.\n",
    "Below is a high-level outline of how you can structure your Jupyter Notebook to implement these steps:\n",
    "\n",
    "Import necessary libraries: yfinance for fetching historical data, pandas for data manipulation, matplotlib and seaborn for visualization.\n",
    "Collect historical earnings data using yfinance.\n",
    "Analyze and visualize historical earnings data to identify patterns.\n",
    "Fetch upcoming earnings calendar data using web scraping or APIs.\n",
    "Screen for potential trading opportunities based on predefined criteria.\n",
    "Develop and implement trading strategies.\n",
    "Implement risk management techniques.\n",
    "Monitor trades and adjust positions as needed.\n",
    "By following this approach, you can implement the analytical strategy described earlier in a Jupyter Notebook using Python and relevant libraries. If you need further assistance with any specific step or code implementation, feel free to ask!\n"
   ]
  },
  {
   "cell_type": "code",
   "execution_count": null,
   "metadata": {},
   "outputs": [],
   "source": []
  }
 ],
 "metadata": {
  "colab": {
   "collapsed_sections": [
    "_sMONMJHjXkM"
   ],
   "provenance": []
  },
  "kernelspec": {
   "display_name": "Python 3 (ipykernel)",
   "language": "python",
   "name": "python3"
  },
  "language_info": {
   "codemirror_mode": {
    "name": "ipython",
    "version": 3
   },
   "file_extension": ".py",
   "mimetype": "text/x-python",
   "name": "python",
   "nbconvert_exporter": "python",
   "pygments_lexer": "ipython3",
   "version": "3.10.12"
  }
 },
 "nbformat": 4,
 "nbformat_minor": 1
}
